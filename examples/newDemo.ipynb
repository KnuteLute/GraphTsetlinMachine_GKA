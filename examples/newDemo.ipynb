{
 "cells": [
  {
   "cell_type": "code",
   "execution_count": 1,
   "id": "d1f325ce-5704-4006-9c2f-a258cc92b3a0",
   "metadata": {},
   "outputs": [
    {
     "name": "stdout",
     "output_type": "stream",
     "text": [
      "Requirement already satisfied: graphtsetlinmachine in /opt/conda/lib/python3.11/site-packages (0.2.6)\n",
      "Note: you may need to restart the kernel to use updated packages.\n"
     ]
    }
   ],
   "source": [
    "pip install graphtsetlinmachine"
   ]
  },
  {
   "cell_type": "code",
   "execution_count": 2,
   "id": "9959beb0-9ea6-4b36-a1f8-42ace6660468",
   "metadata": {},
   "outputs": [],
   "source": [
    "from GraphTsetlinMachine.graphs import Graphs\n",
    "import numpy as np\n",
    "from scipy.sparse import csr_matrix\n",
    "from GraphTsetlinMachine.tm import MultiClassGraphTsetlinMachine\n",
    "from time import time\n",
    "import argparse\n",
    "import random\n",
    "import csv"
   ]
  },
  {
   "cell_type": "code",
   "execution_count": 3,
   "id": "ac0af847-1bf6-4144-83ed-4fa6bedf3bb6",
   "metadata": {},
   "outputs": [],
   "source": [
    "def default_args(**kwargs):\n",
    "    parser = argparse.ArgumentParser()\n",
    "    parser.add_argument(\"--epochs\", default=25, type=int)\n",
    "    parser.add_argument(\"--number-of-clauses\", default=20000, type=int)\n",
    "    parser.add_argument(\"--T\", default=np.power((20000/0.8377),1/2.2099), type=int)\n",
    "    parser.add_argument(\"--s\", default=2.534*np.log((20000/3.7579)), type=float)\n",
    "    parser.add_argument(\"--depth\", default=2, type=int)\n",
    "    parser.add_argument(\"--hypervector-size\", default=128, type=int)\n",
    "    parser.add_argument(\"--hypervector-bits\", default=2, type=int)\n",
    "    parser.add_argument(\"--message-size\", default=256, type=int)\n",
    "    parser.add_argument(\"--message-bits\", default=2, type=int)\n",
    "    parser.add_argument('--double-hashing', dest='double_hashing', default=False, action='store_true')\n",
    "    parser.add_argument(\"--noise\", default=0.01, type=float)\n",
    "    parser.add_argument(\"--number-of-examples\", default=10000, type=int)\n",
    "    parser.add_argument(\"--max-included-literals\", default=32, type=int)\n",
    "\n",
    "    args, unknown = parser.parse_known_args()\n",
    "    for key, value in kwargs.items():\n",
    "        if key in args.__dict__:\n",
    "            setattr(args, key, value)\n",
    "    return args\n",
    "\n",
    "args = default_args()"
   ]
  },
  {
   "cell_type": "code",
   "execution_count": 4,
   "id": "9122b381-bb68-4af6-8b89-3f949a6eca34",
   "metadata": {},
   "outputs": [
    {
     "name": "stdout",
     "output_type": "stream",
     "text": [
      "Loading data\n",
      "X_train shape: (16000, 49)\n",
      "Y_train shape: (16000, 1)\n",
      "X_test shape: (4000, 49)\n",
      "Y_test shape: (4000, 1)\n",
      "X_train shape: (16000, 49)\n",
      "Y_train shape: (16000,)\n",
      "X_test shape: (4000, 49)\n",
      "Y_test shape: (4000,)\n"
     ]
    }
   ],
   "source": [
    "print(\"Loading data\")\n",
    "input_file = 'hex_games_1_000_000_size_7.csv'\n",
    "\n",
    "# Read the entire CSV file into a list of rows\n",
    "with open(input_file, mode='r', newline='') as infile:\n",
    "    reader = csv.reader(infile)\n",
    "    data = list(reader)\n",
    "\n",
    "\n",
    "delete_index = int((0.98 * len(data)))\n",
    "data = data[delete_index:]\n",
    "# Split the data into training (80%) and testing (20%) sets\n",
    "split_index = int(0.8 * len(data))\n",
    "train_data = data[:split_index]\n",
    "test_data = data[split_index:]\n",
    "\n",
    "# Separate X_data and Y_data for training set\n",
    "X_train = np.array([row[:-1] for row in train_data], dtype=int)\n",
    "Y_train = np.array([row[-1:] for row in train_data], dtype=int)\n",
    "\n",
    "# Separate X_data and Y_data for testing set\n",
    "X_test = np.array([row[:-1] for row in test_data], dtype=int)\n",
    "Y_test = np.array([row[-1:] for row in test_data], dtype=int)\n",
    "\n",
    "print(\"X_train shape:\", X_train.shape)\n",
    "print(\"Y_train shape:\", Y_train.shape)\n",
    "print(\"X_test shape:\", X_test.shape)\n",
    "print(\"Y_test shape:\", Y_test.shape)\n",
    "\n",
    "#X_train = X_train.reshape(-1, 7, 7)\n",
    "#X_test = X_test.reshape(-1, 7, 7)\n",
    "\n",
    "Y_train = Y_train.reshape(-1)\n",
    "Y_test = Y_test.reshape(-1)\n",
    "\n",
    "Y_train = np.where(Y_train == -1, 0, Y_train)\n",
    "Y_test = np.where(Y_test == -1, 0, Y_test)\n",
    "\n",
    "\n",
    "# Print the shapes of the arrays\n",
    "print(\"X_train shape:\", X_train.shape)\n",
    "print(\"Y_train shape:\", Y_train.shape)\n",
    "print(\"X_test shape:\", X_test.shape)\n",
    "print(\"Y_test shape:\", Y_test.shape)\n"
   ]
  },
  {
   "cell_type": "code",
   "execution_count": 5,
   "id": "0644d65f-ada5-4d14-92f5-dc3a0648d711",
   "metadata": {},
   "outputs": [
    {
     "name": "stdout",
     "output_type": "stream",
     "text": [
      "1 7 49\n"
     ]
    }
   ],
   "source": [
    "patch_size = 1\n",
    "dim = 7 - patch_size + 1\n",
    "\n",
    "number_of_nodes = dim * dim\n",
    "\n",
    "print(patch_size, dim, number_of_nodes)"
   ]
  },
  {
   "cell_type": "code",
   "execution_count": 6,
   "id": "8056756c-274e-4e4e-9ecb-9c0054d21c02",
   "metadata": {},
   "outputs": [
    {
     "name": "stdout",
     "output_type": "stream",
     "text": [
      "Creating training data\n",
      "Finished preparing node configuration\n",
      "All nodes are acounted for\n",
      "Added neighbor edges\n"
     ]
    }
   ],
   "source": [
    "print(\"Creating training data\")\n",
    "symbol_names = []\n",
    "# Create train data\n",
    "for i in range(dim*dim):\n",
    "    symbol_names.append(i)\n",
    "    \n",
    "graphs_train = Graphs(\n",
    "    X_train.shape[0],\n",
    "    symbols=symbol_names,\n",
    "    hypervector_size=args.hypervector_size,\n",
    "    hypervector_bits=args.hypervector_bits,\n",
    "    double_hashing = args.double_hashing\n",
    ")\n",
    "\n",
    "\n",
    "\n",
    "for graph_id in range(X_train.shape[0]):\n",
    "    graphs_train.set_number_of_graph_nodes(graph_id, number_of_nodes)\n",
    "    \n",
    "graphs_train.prepare_node_configuration()\n",
    "print(\"Finished preparing node configuration\")\n",
    "\n",
    "map_size = 7 # 7 x 7\n",
    "data_size = 10000\n",
    "directions = [\n",
    "    (-1, 0), (1, 0),  # Left and Right\n",
    "    (0, -1), (0, 1),  # Up and Down\n",
    "    (-1, 1), (1, -1)  # Upper-left and Lower-right for staggered rows\n",
    "]\n",
    "\n",
    "for graph_id in range(X_train.shape[0]):\n",
    "    number_of_outgoing_edges = 2\n",
    "    for node_id in range(3):\n",
    "        graphs_train.add_graph_node(graph_id, node_id, number_of_outgoing_edges)\n",
    "            \n",
    "    \n",
    "print(\"All nodes are acounted for\")\n",
    "graphs_train.prepare_edge_configuration()\n",
    "edge_type = \"Plain\"\n",
    "\n",
    "for graph_id in range(X_train.shape[0]):\n",
    "    for node_id in range(3):\n",
    "        for neighbor_id in range(3):\n",
    "            if node_id != neighbor_id:\n",
    "                graphs_train.add_graph_node_edge(graph_id, node_id, neighbor_id, edge_type)\n",
    "print(\"Added neighbor edges\")\n"
   ]
  },
  {
   "cell_type": "code",
   "execution_count": 7,
   "id": "64b9f314-141b-4cd4-845a-2eecf5af2fb9",
   "metadata": {},
   "outputs": [
    {
     "name": "stdout",
     "output_type": "stream",
     "text": [
      "Preparing to add bricks to the board\n",
      "All cells now have a brick\n"
     ]
    }
   ],
   "source": [
    "print(\"Preparing to add bricks to the board\")\n",
    "\n",
    "# Define the bricks array: 0 for node_id 0, 1 for node_id 1, and -1 for node_id 2\n",
    "bricks = np.array([0, 1, -1])\n",
    "\n",
    "for graph_id in range(X_train.shape[0]):\n",
    "    for node_id, brick in enumerate(bricks):\n",
    "        # Find cells that match the current brick for this graph_id\n",
    "        matching_cells = np.where(X_train[graph_id] == brick)[0]\n",
    "\n",
    "        # Iterate over matching cells and add each one separately\n",
    "        for cell in matching_cells:\n",
    "            graphs_train.add_graph_node_property(graph_id, node_id, cell)\n",
    "\n",
    "graphs_train.encode()\n",
    "print(\"All cells now have a brick\")\n"
   ]
  },
  {
   "cell_type": "code",
   "execution_count": 8,
   "id": "4d3ba61f-5bcb-4221-955e-5b2bd969a8a4",
   "metadata": {},
   "outputs": [
    {
     "name": "stdout",
     "output_type": "stream",
     "text": [
      "Creating test data\n",
      "Finished preparing node configuration\n",
      "All nodes are acounted for\n",
      "Added neighbor edges\n"
     ]
    }
   ],
   "source": [
    "print(\"Creating test data\")\n",
    "symbol_names = []\n",
    "# Create train data\n",
    "for i in range(dim*dim):\n",
    "    symbol_names.append(i)\n",
    "    \n",
    "graphs_test = Graphs(\n",
    "    X_train.shape[0],\n",
    "    symbols=symbol_names,\n",
    "    hypervector_size=args.hypervector_size,\n",
    "    hypervector_bits=args.hypervector_bits,\n",
    "    double_hashing = args.double_hashing\n",
    ")\n",
    "\n",
    "\n",
    "\n",
    "for graph_id in range(X_test.shape[0]):\n",
    "    graphs_test.set_number_of_graph_nodes(graph_id, number_of_nodes)\n",
    "    \n",
    "graphs_test.prepare_node_configuration()\n",
    "print(\"Finished preparing node configuration\")\n",
    "\n",
    "map_size = 7 # 7 x 7\n",
    "data_size = 10000\n",
    "directions = [\n",
    "    (-1, 0), (1, 0),  # Left and Right\n",
    "    (0, -1), (0, 1),  # Up and Down\n",
    "    (-1, 1), (1, -1)  # Upper-left and Lower-right for staggered rows\n",
    "]\n",
    "\n",
    "for graph_id in range(X_test.shape[0]):\n",
    "    number_of_outgoing_edges = 2\n",
    "    for node_id in range(3):\n",
    "        graphs_test.add_graph_node(graph_id, node_id, number_of_outgoing_edges)\n",
    "            \n",
    "    \n",
    "print(\"All nodes are acounted for\")\n",
    "graphs_test.prepare_edge_configuration()\n",
    "edge_type = \"Plain\"\n",
    "\n",
    "for graph_id in range(X_test.shape[0]):\n",
    "    for node_id in range(3):\n",
    "        for neighbor_id in range(3):\n",
    "            if node_id != neighbor_id:\n",
    "                graphs_test.add_graph_node_edge(graph_id, node_id, neighbor_id, edge_type)\n",
    "print(\"Added neighbor edges\")\n"
   ]
  },
  {
   "cell_type": "code",
   "execution_count": null,
   "id": "1dc5ead6-7cbe-4c9c-b87e-e1ebd76abc3b",
   "metadata": {},
   "outputs": [
    {
     "name": "stdout",
     "output_type": "stream",
     "text": [
      "Preparing to add bricks to the board\n"
     ]
    }
   ],
   "source": [
    "print(\"Preparing to add bricks to the board\")\n",
    "\n",
    "# Define the bricks array: 0 for node_id 0, 1 for node_id 1, and -1 for node_id 2\n",
    "bricks = np.array([0, 1, -1])\n",
    "\n",
    "for graph_id in range(X_test.shape[0]):\n",
    "    for node_id, brick in enumerate(bricks):\n",
    "        # Find cells that match the current brick for this graph_id\n",
    "        matching_cells = np.where(X_test[graph_id] == brick)[0]\n",
    "\n",
    "        # Iterate over matching cells and add each one separately\n",
    "        for cell in matching_cells:\n",
    "            graphs_test.add_graph_node_property(graph_id, node_id, cell)\n",
    "\n",
    "graphs_test.encode()\n",
    "print(\"All cells now have a brick\")\n"
   ]
  },
  {
   "cell_type": "code",
   "execution_count": null,
   "id": "8c6af668-50a2-486e-9d11-745b729a5c5c",
   "metadata": {},
   "outputs": [],
   "source": [
    "tm = MultiClassGraphTsetlinMachine(\n",
    "    args.number_of_clauses,\n",
    "    args.T,\n",
    "    args.s,\n",
    "    depth = args.depth,\n",
    "    message_size = args.message_size,\n",
    "    message_bits = args.message_bits,\n",
    "    max_included_literals = args.max_included_literals\n",
    ")\n",
    "\n",
    "for i in range(args.epochs):\n",
    "    start_training = time()\n",
    "    tm.fit(graphs_train, Y_train, epochs=1, incremental=True)\n",
    "    stop_training = time()\n",
    "\n",
    "    start_testing = time()\n",
    "    #print(tm.predict(graphs_test))\n",
    "    result_test = 100*(tm.predict(graphs_test) == Y_test).mean()\n",
    "    #print(tm.predict(graphs_test))\n",
    "    stop_testing = time()\n",
    "\n",
    "    result_train = 100*(tm.predict(graphs_train) == Y_train).mean()\n",
    "\n",
    "    print(\"%d %.2f %.2f %.2f %.2f\" % (i, result_train, result_test, stop_training-start_training, stop_testing-start_testing))\n",
    "\n",
    "weights = tm.get_state()[1].reshape(2, -1)\n",
    "for i in range(tm.number_of_clauses):\n",
    "        print(\"Clause #%d W:(%d %d)\" % (i, weights[0,i], weights[1,i]), end=' ')\n",
    "        l = []\n",
    "        for k in range(args.hypervector_size * 2):\n",
    "            if tm.ta_action(0, i, k):\n",
    "                if k < args.hypervector_size:\n",
    "                    l.append(\"x%d\" % (k))\n",
    "                else:\n",
    "                    l.append(\"NOT x%d\" % (k - args.hypervector_size))\n",
    "\n",
    "        # for k in range(args.message_size * 2):\n",
    "        #     if tm.ta_action(1, i, k):\n",
    "        #         if k < args.message_size:\n",
    "        #             l.append(\"c%d\" % (k))\n",
    "        #         else:\n",
    "        #             l.append(\"NOT c%d\" % (k - args.message_size))\n",
    "\n",
    "        print(\" AND \".join(l))\n",
    "\n",
    "print(graphs_test.hypervectors)\n",
    "print(tm.hypervectors)\n",
    "print(graphs_test.edge_type_id)"
   ]
  }
 ],
 "metadata": {
  "kernelspec": {
   "display_name": "Python 3 (ipykernel)",
   "language": "python",
   "name": "python3"
  },
  "language_info": {
   "codemirror_mode": {
    "name": "ipython",
    "version": 3
   },
   "file_extension": ".py",
   "mimetype": "text/x-python",
   "name": "python",
   "nbconvert_exporter": "python",
   "pygments_lexer": "ipython3",
   "version": "3.11.6"
  }
 },
 "nbformat": 4,
 "nbformat_minor": 5
}
